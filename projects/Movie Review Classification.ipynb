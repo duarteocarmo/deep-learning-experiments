{
 "cells": [
  {
   "cell_type": "markdown",
   "metadata": {},
   "source": [
    "## Import Data"
   ]
  },
  {
   "cell_type": "code",
   "execution_count": 1,
   "metadata": {},
   "outputs": [
    {
     "name": "stderr",
     "output_type": "stream",
     "text": [
      "/Users/duarteocarmo/anaconda/envs/DeepLearning/lib/python3.5/site-packages/h5py/__init__.py:36: FutureWarning: Conversion of the second argument of issubdtype from `float` to `np.floating` is deprecated. In future, it will be treated as `np.float64 == np.dtype(float).type`.\n",
      "  from ._conv import register_converters as _register_converters\n",
      "Using TensorFlow backend.\n",
      "/Users/duarteocarmo/anaconda/envs/DeepLearning/lib/python3.5/importlib/_bootstrap.py:222: RuntimeWarning: compiletime version 3.6 of module 'tensorflow.python.framework.fast_tensor_util' does not match runtime version 3.5\n",
      "  return f(*args, **kwds)\n"
     ]
    },
    {
     "data": {
      "text/plain": [
       "'2.1.6'"
      ]
     },
     "execution_count": 1,
     "metadata": {},
     "output_type": "execute_result"
    }
   ],
   "source": [
    "import keras\n",
    "keras.__version__"
   ]
  },
  {
   "cell_type": "code",
   "execution_count": 2,
   "metadata": {},
   "outputs": [],
   "source": [
    "from keras.datasets import imdb\n",
    "\n",
    "(train_data, train_labels), (test_data, test_labels) = imdb.load_data(num_words=10000)"
   ]
  },
  {
   "cell_type": "code",
   "execution_count": 3,
   "metadata": {},
   "outputs": [
    {
     "name": "stdout",
     "output_type": "stream",
     "text": [
      "First review in training data: [1, 14, 22, 16, 43, 530, 973, 1622, 1385, 65, 458, 4468, 66, 3941, 4, 173, 36, 256, 5, 25, 100, 43, 838, 112, 50, 670, 2, 9, 35, 480, 284, 5, 150, 4, 172, 112, 167, 2, 336, 385, 39, 4, 172, 4536, 1111, 17, 546, 38, 13, 447, 4, 192, 50, 16, 6, 147, 2025, 19, 14, 22, 4, 1920, 4613, 469, 4, 22, 71, 87, 12, 16, 43, 530, 38, 76, 15, 13, 1247, 4, 22, 17, 515, 17, 12, 16, 626, 18, 2, 5, 62, 386, 12, 8, 316, 8, 106, 5, 4, 2223, 5244, 16, 480, 66, 3785, 33, 4, 130, 12, 16, 38, 619, 5, 25, 124, 51, 36, 135, 48, 25, 1415, 33, 6, 22, 12, 215, 28, 77, 52, 5, 14, 407, 16, 82, 2, 8, 4, 107, 117, 5952, 15, 256, 4, 2, 7, 3766, 5, 723, 36, 71, 43, 530, 476, 26, 400, 317, 46, 7, 4, 2, 1029, 13, 104, 88, 4, 381, 15, 297, 98, 32, 2071, 56, 26, 141, 6, 194, 7486, 18, 4, 226, 22, 21, 134, 476, 26, 480, 5, 144, 30, 5535, 18, 51, 36, 28, 224, 92, 25, 104, 4, 226, 65, 16, 38, 1334, 88, 12, 16, 283, 5, 16, 4472, 113, 103, 32, 15, 16, 5345, 19, 178, 32] \n",
      "\n",
      "Its label: 1\n"
     ]
    }
   ],
   "source": [
    "print(\"First review in training data: {} \\n\".format(train_data[0])  )\n",
    "print(\"Its label: {}\".format(train_labels[0]))"
   ]
  },
  {
   "cell_type": "code",
   "execution_count": 4,
   "metadata": {},
   "outputs": [],
   "source": [
    "word_index = imdb.get_word_index()\n",
    "reverse_word_index = dict([(value, key) for (key, value) in word_index.items()])\n",
    "decoded_review = ' '.join([reverse_word_index.get(i - 3, '?') for i in train_data[0]])"
   ]
  },
  {
   "cell_type": "code",
   "execution_count": 5,
   "metadata": {},
   "outputs": [
    {
     "data": {
      "text/plain": [
       "\"? this film was just brilliant casting location scenery story direction everyone's really suited the part they played and you could just imagine being there robert ? is an amazing actor and now the same being director ? father came from the same scottish island as myself so i loved the fact there was a real connection with this film the witty remarks throughout the film were great it was just brilliant so much that i bought the film as soon as it was released for ? and would recommend it to everyone to watch and the fly fishing was amazing really cried at the end it was so sad and you know what they say if you cry at a film it must have been good and this definitely was also ? to the two little boy's that played the ? of norman and paul they were just brilliant children are often left out of the ? list i think because the stars that play them all grown up are such a big profile for the whole film but these children are amazing and should be praised for what they have done don't you think the whole story was so lovely because it was true and was someone's life after all that was shared with us all\""
      ]
     },
     "execution_count": 5,
     "metadata": {},
     "output_type": "execute_result"
    }
   ],
   "source": [
    "decoded_review"
   ]
  },
  {
   "cell_type": "markdown",
   "metadata": {},
   "source": [
    "## Preparing the data"
   ]
  },
  {
   "cell_type": "code",
   "execution_count": 6,
   "metadata": {},
   "outputs": [],
   "source": [
    "import numpy as np\n",
    "\n",
    "def vectorize_sequences(sequences, dimension=10000):\n",
    "    # Create an all-zero matrix of shape (len(sequences), dimension)\n",
    "    results = np.zeros((len(sequences), dimension))\n",
    "    for i, sequence in enumerate(sequences):\n",
    "        results[i, sequence] = 1.  # set specific indices of results[i] to 1s\n",
    "    return results\n",
    "\n",
    "# Our vectorized training data\n",
    "x_train = vectorize_sequences(train_data)\n",
    "# Our vectorized test data\n",
    "x_test = vectorize_sequences(test_data)\n",
    "\n",
    "y_train = np.asarray(train_labels).astype('float32')\n",
    "y_test = np.asarray(test_labels).astype('float32')"
   ]
  },
  {
   "cell_type": "markdown",
   "metadata": {},
   "source": [
    "## Building the Network"
   ]
  },
  {
   "cell_type": "code",
   "execution_count": 7,
   "metadata": {},
   "outputs": [],
   "source": [
    "from keras import models\n",
    "from keras import layers\n",
    "\n",
    "model = models.Sequential()\n",
    "model.add(layers.Dense(16, activation='relu', input_shape=(10000,)))\n",
    "model.add(layers.Dense(16, activation='relu'))\n",
    "model.add(layers.Dense(1, activation='sigmoid'))"
   ]
  },
  {
   "cell_type": "code",
   "execution_count": 8,
   "metadata": {},
   "outputs": [],
   "source": [
    "model.compile(optimizer='rmsprop',\n",
    "              loss='binary_crossentropy',\n",
    "              metrics=['accuracy'])"
   ]
  },
  {
   "cell_type": "markdown",
   "metadata": {},
   "source": [
    "## Validating the approach"
   ]
  },
  {
   "cell_type": "code",
   "execution_count": 11,
   "metadata": {},
   "outputs": [],
   "source": [
    "# validation set\n",
    "x_val = x_train[:10000]\n",
    "partial_x_train = x_train[10000:]\n",
    "\n",
    "y_val = y_train[:10000]\n",
    "partial_y_train = y_train[10000:]"
   ]
  },
  {
   "cell_type": "code",
   "execution_count": 12,
   "metadata": {},
   "outputs": [
    {
     "name": "stdout",
     "output_type": "stream",
     "text": [
      "Train on 15000 samples, validate on 10000 samples\n",
      "Epoch 1/20\n",
      "15000/15000 [==============================] - 3s 207us/step - loss: 0.5086 - acc: 0.7813 - val_loss: 0.3791 - val_acc: 0.8690\n",
      "Epoch 2/20\n",
      "15000/15000 [==============================] - 2s 101us/step - loss: 0.3002 - acc: 0.9047 - val_loss: 0.3002 - val_acc: 0.8900\n",
      "Epoch 3/20\n",
      "15000/15000 [==============================] - 1s 97us/step - loss: 0.2178 - acc: 0.9287 - val_loss: 0.3085 - val_acc: 0.8715\n",
      "Epoch 4/20\n",
      "15000/15000 [==============================] - 1s 98us/step - loss: 0.1750 - acc: 0.9433 - val_loss: 0.2837 - val_acc: 0.8839\n",
      "Epoch 5/20\n",
      "15000/15000 [==============================] - 1s 98us/step - loss: 0.1425 - acc: 0.9541 - val_loss: 0.2843 - val_acc: 0.8873\n",
      "Epoch 6/20\n",
      "15000/15000 [==============================] - 1s 99us/step - loss: 0.1150 - acc: 0.9652 - val_loss: 0.3155 - val_acc: 0.8774\n",
      "Epoch 7/20\n",
      "15000/15000 [==============================] - 1s 98us/step - loss: 0.0979 - acc: 0.9709 - val_loss: 0.3128 - val_acc: 0.8845\n",
      "Epoch 8/20\n",
      "15000/15000 [==============================] - 1s 98us/step - loss: 0.0806 - acc: 0.9764 - val_loss: 0.3852 - val_acc: 0.8657\n",
      "Epoch 9/20\n",
      "15000/15000 [==============================] - 1s 98us/step - loss: 0.0659 - acc: 0.9821 - val_loss: 0.3631 - val_acc: 0.8783\n",
      "Epoch 10/20\n",
      "15000/15000 [==============================] - 1s 97us/step - loss: 0.0554 - acc: 0.9853 - val_loss: 0.3843 - val_acc: 0.8793\n",
      "Epoch 11/20\n",
      "15000/15000 [==============================] - 1s 90us/step - loss: 0.0450 - acc: 0.9890 - val_loss: 0.4164 - val_acc: 0.8765\n",
      "Epoch 12/20\n",
      "15000/15000 [==============================] - 1s 93us/step - loss: 0.0383 - acc: 0.9913 - val_loss: 0.4505 - val_acc: 0.8701\n",
      "Epoch 13/20\n",
      "15000/15000 [==============================] - 1s 96us/step - loss: 0.0297 - acc: 0.9929 - val_loss: 0.4705 - val_acc: 0.8729\n",
      "Epoch 14/20\n",
      "15000/15000 [==============================] - 1s 96us/step - loss: 0.0242 - acc: 0.9949 - val_loss: 0.5032 - val_acc: 0.8716\n",
      "Epoch 15/20\n",
      "15000/15000 [==============================] - 1s 95us/step - loss: 0.0175 - acc: 0.9979 - val_loss: 0.5394 - val_acc: 0.8682\n",
      "Epoch 16/20\n",
      "15000/15000 [==============================] - 1s 93us/step - loss: 0.0168 - acc: 0.9968 - val_loss: 0.5730 - val_acc: 0.8702\n",
      "Epoch 17/20\n",
      "15000/15000 [==============================] - 1s 83us/step - loss: 0.0093 - acc: 0.9995 - val_loss: 0.6234 - val_acc: 0.8637\n",
      "Epoch 18/20\n",
      "15000/15000 [==============================] - 1s 95us/step - loss: 0.0111 - acc: 0.9977 - val_loss: 0.6412 - val_acc: 0.8667\n",
      "Epoch 19/20\n",
      "15000/15000 [==============================] - 1s 97us/step - loss: 0.0106 - acc: 0.9977 - val_loss: 0.6753 - val_acc: 0.8654\n",
      "Epoch 20/20\n",
      "15000/15000 [==============================] - 1s 95us/step - loss: 0.0040 - acc: 0.9999 - val_loss: 0.6948 - val_acc: 0.8668\n"
     ]
    }
   ],
   "source": [
    "# training the model\n",
    "history = model.fit(partial_x_train,\n",
    "                    partial_y_train,\n",
    "                    epochs=20,\n",
    "                    batch_size=512,\n",
    "                    validation_data=(x_val, y_val))"
   ]
  }
 ],
 "metadata": {
  "kernelspec": {
   "display_name": "Python [conda env:DeepLearning]",
   "language": "python",
   "name": "conda-env-DeepLearning-py"
  },
  "language_info": {
   "codemirror_mode": {
    "name": "ipython",
    "version": 3
   },
   "file_extension": ".py",
   "mimetype": "text/x-python",
   "name": "python",
   "nbconvert_exporter": "python",
   "pygments_lexer": "ipython3",
   "version": "3.5.5"
  }
 },
 "nbformat": 4,
 "nbformat_minor": 2
}
