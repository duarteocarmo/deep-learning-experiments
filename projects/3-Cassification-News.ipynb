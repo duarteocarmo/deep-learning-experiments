{
 "cells": [
  {
   "cell_type": "markdown",
   "metadata": {},
   "source": [
    "## The dataset"
   ]
  },
  {
   "cell_type": "code",
   "execution_count": 1,
   "metadata": {},
   "outputs": [
    {
     "name": "stderr",
     "output_type": "stream",
     "text": [
      "/Users/duarteocarmo/anaconda/envs/DeepLearning/lib/python3.5/site-packages/h5py/__init__.py:36: FutureWarning: Conversion of the second argument of issubdtype from `float` to `np.floating` is deprecated. In future, it will be treated as `np.float64 == np.dtype(float).type`.\n",
      "  from ._conv import register_converters as _register_converters\n",
      "Using TensorFlow backend.\n",
      "/Users/duarteocarmo/anaconda/envs/DeepLearning/lib/python3.5/importlib/_bootstrap.py:222: RuntimeWarning: compiletime version 3.6 of module 'tensorflow.python.framework.fast_tensor_util' does not match runtime version 3.5\n",
      "  return f(*args, **kwds)\n"
     ]
    }
   ],
   "source": [
    "from keras.datasets import reuters\n",
    "\n",
    "(train_data, train_labels), (test_data, test_labels) = reuters.load_data(num_words=10000)"
   ]
  },
  {
   "cell_type": "code",
   "execution_count": 2,
   "metadata": {},
   "outputs": [
    {
     "name": "stdout",
     "output_type": "stream",
     "text": [
      "8982 training examples.\n",
      "2246 test examples\n"
     ]
    }
   ],
   "source": [
    "print('{} training examples.\\n{} test examples'.format(len(train_data), len(test_data)))"
   ]
  },
  {
   "cell_type": "code",
   "execution_count": 3,
   "metadata": {},
   "outputs": [
    {
     "name": "stdout",
     "output_type": "stream",
     "text": [
      "Example of a training datapoint:\n",
      "[1, 2, 2, 8, 43, 10, 447, 5, 25, 207, 270, 5, 3095, 111, 16, 369, 186, 90, 67, 7, 89, 5, 19, 102, 6, 19, 124, 15, 90, 67, 84, 22, 482, 26, 7, 48, 4, 49, 8, 864, 39, 209, 154, 6, 151, 6, 83, 11, 15, 22, 155, 11, 15, 7, 48, 9, 4579, 1005, 504, 6, 258, 6, 272, 11, 15, 22, 134, 44, 11, 15, 16, 8, 197, 1245, 90, 67, 52, 29, 209, 30, 32, 132, 6, 109, 15, 17, 12]\n"
     ]
    }
   ],
   "source": [
    "print('Example of a training datapoint:\\n{}'.format(train_data[0]))"
   ]
  },
  {
   "cell_type": "markdown",
   "metadata": {},
   "source": [
    "## Preparing the data"
   ]
  },
  {
   "cell_type": "code",
   "execution_count": 4,
   "metadata": {},
   "outputs": [],
   "source": [
    "# encoding the data\n",
    "import numpy as np\n",
    "\n",
    "def vectorize_sequences(sequences, dimension=10000):\n",
    "    results = np.zeros((len(sequences), dimension))\n",
    "    for i, sequence in enumerate(sequences):\n",
    "        results[i, sequence] = 1\n",
    "    return results\n",
    "\n",
    "x_train = vectorize_sequences(train_data)\n",
    "x_test = vectorize_sequences(test_data)"
   ]
  },
  {
   "cell_type": "code",
   "execution_count": 5,
   "metadata": {},
   "outputs": [],
   "source": [
    "# encoding the labels\n",
    "def to_one_hot(labels, dimension=46):\n",
    "    results = np.zeros((len(labels), dimension))\n",
    "    for i, label in enumerate(labels):\n",
    "        results[i, label] = 1\n",
    "    return results\n",
    "\n",
    "one_hot_train_labels = to_one_hot(train_labels)\n",
    "one_hot_test_labels = to_one_hot(test_labels)"
   ]
  },
  {
   "cell_type": "markdown",
   "metadata": {},
   "source": [
    "## Building the network"
   ]
  },
  {
   "cell_type": "code",
   "execution_count": 6,
   "metadata": {},
   "outputs": [],
   "source": [
    "from keras import models\n",
    "from keras import layers\n",
    "\n",
    "model = models.Sequential()\n",
    "model.add(layers.Dense(64, activation='relu', input_shape=(10000,)))\n",
    "model.add(layers.Dense(64, activation='relu'))\n",
    "model.add(layers.Dense(46, activation='softmax'))"
   ]
  },
  {
   "cell_type": "code",
   "execution_count": 7,
   "metadata": {},
   "outputs": [],
   "source": [
    "model.compile(optimizer='rmsprop',\n",
    "              loss='categorical_crossentropy',\n",
    "              metrics=['accuracy'])"
   ]
  },
  {
   "cell_type": "markdown",
   "metadata": {},
   "source": [
    "## Validating Approach"
   ]
  },
  {
   "cell_type": "code",
   "execution_count": 8,
   "metadata": {},
   "outputs": [],
   "source": [
    "x_val = x_train[:1000]\n",
    "partial_x_train = x_train[1000:]\n",
    "\n",
    "y_val = one_hot_train_labels[:1000]\n",
    "partial_y_train = one_hot_train_labels[1000:]"
   ]
  },
  {
   "cell_type": "code",
   "execution_count": 9,
   "metadata": {},
   "outputs": [
    {
     "name": "stdout",
     "output_type": "stream",
     "text": [
      "Train on 7982 samples, validate on 1000 samples\n",
      "Epoch 1/20\n",
      "7982/7982 [==============================] - 3s 382us/step - loss: 1.4885 - acc: 0.6644 - val_loss: 1.0823 - val_acc: 0.7590\n",
      "Epoch 2/20\n",
      "7982/7982 [==============================] - 2s 305us/step - loss: 0.7884 - acc: 0.8227 - val_loss: 0.8873 - val_acc: 0.8150\n",
      "Epoch 3/20\n",
      "7982/7982 [==============================] - 2s 275us/step - loss: 0.4963 - acc: 0.8894 - val_loss: 0.8804 - val_acc: 0.8200\n",
      "Epoch 4/20\n",
      "7982/7982 [==============================] - 2s 277us/step - loss: 0.3407 - acc: 0.9225 - val_loss: 0.8975 - val_acc: 0.8180\n",
      "Epoch 5/20\n",
      "7982/7982 [==============================] - 2s 279us/step - loss: 0.2574 - acc: 0.9410 - val_loss: 0.9636 - val_acc: 0.8240\n",
      "Epoch 6/20\n",
      "7982/7982 [==============================] - 2s 278us/step - loss: 0.2193 - acc: 0.9495 - val_loss: 1.0390 - val_acc: 0.8170\n",
      "Epoch 7/20\n",
      "7982/7982 [==============================] - 2s 279us/step - loss: 0.1933 - acc: 0.9515 - val_loss: 1.0974 - val_acc: 0.8080\n",
      "Epoch 8/20\n",
      "7982/7982 [==============================] - 2s 279us/step - loss: 0.1733 - acc: 0.9531 - val_loss: 1.2599 - val_acc: 0.7890\n",
      "Epoch 9/20\n",
      "7982/7982 [==============================] - 2s 281us/step - loss: 0.1607 - acc: 0.9554 - val_loss: 1.2085 - val_acc: 0.8100\n",
      "Epoch 10/20\n",
      "7982/7982 [==============================] - 2s 278us/step - loss: 0.1536 - acc: 0.9574 - val_loss: 1.2961 - val_acc: 0.8030\n",
      "Epoch 11/20\n",
      "7982/7982 [==============================] - 2s 280us/step - loss: 0.1448 - acc: 0.9577 - val_loss: 1.2840 - val_acc: 0.7950\n",
      "Epoch 12/20\n",
      "7982/7982 [==============================] - 2s 262us/step - loss: 0.1345 - acc: 0.9551 - val_loss: 1.3092 - val_acc: 0.8080\n",
      "Epoch 13/20\n",
      "7982/7982 [==============================] - 2s 241us/step - loss: 0.1334 - acc: 0.9569 - val_loss: 1.3652 - val_acc: 0.8030\n",
      "Epoch 14/20\n",
      "7982/7982 [==============================] - 2s 242us/step - loss: 0.1239 - acc: 0.9559 - val_loss: 1.4763 - val_acc: 0.8000\n",
      "Epoch 15/20\n",
      "7982/7982 [==============================] - 2s 248us/step - loss: 0.1174 - acc: 0.9567 - val_loss: 1.4480 - val_acc: 0.7990\n",
      "Epoch 16/20\n",
      "7982/7982 [==============================] - 2s 295us/step - loss: 0.1185 - acc: 0.9585 - val_loss: 1.4886 - val_acc: 0.7900\n",
      "Epoch 17/20\n",
      "7982/7982 [==============================] - 2s 282us/step - loss: 0.1134 - acc: 0.9585 - val_loss: 1.5411 - val_acc: 0.7950\n",
      "Epoch 18/20\n",
      "7982/7982 [==============================] - 2s 303us/step - loss: 0.1100 - acc: 0.9595 - val_loss: 1.6714 - val_acc: 0.7860\n",
      "Epoch 19/20\n",
      "7982/7982 [==============================] - 2s 306us/step - loss: 0.1099 - acc: 0.9567 - val_loss: 1.6512 - val_acc: 0.7940\n",
      "Epoch 20/20\n",
      "7982/7982 [==============================] - 2s 279us/step - loss: 0.1043 - acc: 0.9595 - val_loss: 1.6426 - val_acc: 0.7830\n"
     ]
    }
   ],
   "source": [
    "# train the model\n",
    "history = model.fit(partial_x_train,\n",
    "                    partial_y_train,\n",
    "                    epochs=20,\n",
    "                    validation_data=(x_val, y_val))"
   ]
  },
  {
   "cell_type": "code",
   "execution_count": 12,
   "metadata": {},
   "outputs": [
    {
     "data": {
      "image/png": "[encoded data removed]",
      "text/plain": [
       "<Figure size 432x288 with 1 Axes>"
      ]
     },
     "metadata": {},
     "output_type": "display_data"
    }
   ],
   "source": [
    "import matplotlib.pyplot as plt \n",
    "\n",
    "loss = history.history['loss']\n",
    "val_loss = history.history['val_loss']\n",
    "\n",
    "epochs = range(1, len(loss) + 1)\n",
    "\n",
    "plt.plot(epochs, loss, 'bo', label='training loss')\n",
    "plt.plot(epochs, val_loss, 'b', label='validation loss')\n",
    "plt.title('Training and validation loss')\n",
    "plt.xlabel('Epochs')\n",
    "plt.ylabel('Loss')\n",
    "plt.legend()\n",
    "plt.show()"
   ]
  },
  {
   "cell_type": "code",
   "execution_count": 13,
   "metadata": {},
   "outputs": [
    {
     "data": {
      "image/png": "[encoded data removed]",
      "text/plain": [
       "<Figure size 432x288 with 1 Axes>"
      ]
     },
     "metadata": {},
     "output_type": "display_data"
    }
   ],
   "source": [
    "plt.clf()\n",
    "\n",
    "acc = history.history['acc']\n",
    "va_acc = history.history['val_acc']\n",
    "\n",
    "plt.plot(epochs, acc, 'ro', label='training acc')\n",
    "plt.plot(epochs, va_acc, 'r', label='validation acc')\n",
    "plt.title('Training and validation accuracy')\n",
    "plt.xlabel('Epochs')\n",
    "plt.ylabel('Accuracy')\n",
    "plt.legend()\n",
    "plt.show()"
   ]
  },
  {
   "cell_type": "code",
   "execution_count": 15,
   "metadata": {},
   "outputs": [
    {
     "name": "stdout",
     "output_type": "stream",
     "text": [
      "Train on 7982 samples, validate on 1000 samples\n",
      "Epoch 1/9\n",
      "7982/7982 [==============================] - 1s 147us/step - loss: 2.7913 - acc: 0.5048 - val_loss: 1.8183 - val_acc: 0.6280\n",
      "Epoch 2/9\n",
      "7982/7982 [==============================] - 1s 108us/step - loss: 1.5071 - acc: 0.6988 - val_loss: 1.3200 - val_acc: 0.7170\n",
      "Epoch 3/9\n",
      "7982/7982 [==============================] - 1s 101us/step - loss: 1.1029 - acc: 0.7739 - val_loss: 1.1339 - val_acc: 0.7460\n",
      "Epoch 4/9\n",
      "7982/7982 [==============================] - 1s 106us/step - loss: 0.8676 - acc: 0.8166 - val_loss: 1.0268 - val_acc: 0.7840\n",
      "Epoch 5/9\n",
      "7982/7982 [==============================] - 1s 107us/step - loss: 0.7004 - acc: 0.8487 - val_loss: 0.9636 - val_acc: 0.8020\n",
      "Epoch 6/9\n",
      "7982/7982 [==============================] - 1s 106us/step - loss: 0.5642 - acc: 0.8757 - val_loss: 0.9395 - val_acc: 0.7990\n",
      "Epoch 7/9\n",
      "7982/7982 [==============================] - 1s 107us/step - loss: 0.4551 - acc: 0.9065 - val_loss: 0.9210 - val_acc: 0.7990\n",
      "Epoch 8/9\n",
      "7982/7982 [==============================] - 1s 108us/step - loss: 0.3699 - acc: 0.9241 - val_loss: 0.9640 - val_acc: 0.7940\n",
      "Epoch 9/9\n",
      "7982/7982 [==============================] - 1s 108us/step - loss: 0.3013 - acc: 0.9356 - val_loss: 0.8962 - val_acc: 0.8160\n",
      "2246/2246 [==============================] - 0s 138us/step\n"
     ]
    }
   ],
   "source": [
    "# since it starts overfitting after 9\n",
    "model = models.Sequential()\n",
    "model.add(layers.Dense(64, activation='relu', input_shape=(10000,)))\n",
    "model.add(layers.Dense(64, activation='relu'))\n",
    "model.add(layers.Dense(46, activation='softmax'))\n",
    "\n",
    "model.compile(optimizer='rmsprop',\n",
    "              loss='categorical_crossentropy',\n",
    "              metrics=['accuracy'])\n",
    "\n",
    "model.fit(partial_x_train,\n",
    "          partial_y_train, \n",
    "          epochs=9, \n",
    "          batch_size=512, \n",
    "          validation_data=(x_val, y_val))\n",
    "\n",
    "results = model.evaluate(x_test, one_hot_test_labels)"
   ]
  },
  {
   "cell_type": "code",
   "execution_count": 19,
   "metadata": {},
   "outputs": [
    {
     "name": "stdout",
     "output_type": "stream",
     "text": [
      "Loss: 0.9791217790792165\n",
      "Accuracy: 0.7907390916655346\n"
     ]
    }
   ],
   "source": [
    "print('Loss: {}\\nAccuracy: {}'.format(results[0], results[1]))"
   ]
  },
  {
   "cell_type": "markdown",
   "metadata": {},
   "source": [
    "## Predictions on new data"
   ]
  },
  {
   "cell_type": "code",
   "execution_count": 20,
   "metadata": {},
   "outputs": [],
   "source": [
    "predictions = model.predict(x_test)"
   ]
  },
  {
   "cell_type": "code",
   "execution_count": 24,
   "metadata": {},
   "outputs": [
    {
     "name": "stdout",
     "output_type": "stream",
     "text": [
      "Each prediction has shape: (46,)\n",
      "\n",
      "Example: [8.5185769e-05 2.6946322e-05 8.3282862e-07 9.8804235e-01 8.2385000e-03\n",
      " 5.8812350e-07 2.7050239e-05 2.5604157e-05 2.4367259e-04 1.1605971e-05\n",
      " 2.9226478e-05 1.5951479e-04 4.6195248e-05 7.6583194e-05 2.2439939e-05\n",
      " 1.0398664e-05 2.1866473e-04 2.7013723e-06 1.6947515e-06 3.6795990e-04\n",
      " 6.4968574e-04 5.7293655e-04 2.9904743e-06 1.4266354e-04 2.1698281e-05\n",
      " 1.0702480e-05 1.1948734e-06 1.5220883e-05 4.0807049e-06 3.1032603e-05\n",
      " 2.1764537e-05 2.3118604e-04 2.7808146e-06 1.2380393e-05 3.9874759e-04\n",
      " 9.0581244e-07 3.2198957e-05 6.8182580e-06 1.6797574e-05 1.5126268e-04\n",
      " 2.6600682e-07 1.5670938e-05 2.7722567e-06 1.5325684e-05 1.3988235e-07\n",
      " 1.0728431e-06]\n",
      "\n",
      "Corresponds to a class 3.\n"
     ]
    }
   ],
   "source": [
    "print('Each prediction has shape: {}\\n'.format(predictions[0].shape))\n",
    "print('Example: {}\\n'.format(predictions[0]))\n",
    "print('Corresponds to a class {}.'.format(np.argmax(predictions[0])))"
   ]
  },
  {
   "cell_type": "markdown",
   "metadata": {},
   "source": [
    "## Encoding labels as categories"
   ]
  },
  {
   "cell_type": "code",
   "execution_count": 26,
   "metadata": {},
   "outputs": [],
   "source": [
    "y_train = np.array(train_labels)\n",
    "y_test = np.array(test_labels)"
   ]
  },
  {
   "cell_type": "code",
   "execution_count": 28,
   "metadata": {},
   "outputs": [],
   "source": [
    "# use 'sparse_categorical_entropy'\n",
    "model.compile(optimizer='rmsprop', \n",
    "              loss='sparse_categorical_crossentropy', \n",
    "              metrics=['acc'])"
   ]
  }
 ],
 "metadata": {
  "kernelspec": {
   "display_name": "Python [conda env:DeepLearning]",
   "language": "python",
   "name": "conda-env-DeepLearning-py"
  },
  "language_info": {
   "codemirror_mode": {
    "name": "ipython",
    "version": 3
   },
   "file_extension": ".py",
   "mimetype": "text/x-python",
   "name": "python",
   "nbconvert_exporter": "python",
   "pygments_lexer": "ipython3",
   "version": "3.5.5"
  }
 },
 "nbformat": 4,
 "nbformat_minor": 2
}
